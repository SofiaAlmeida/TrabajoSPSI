{
 "cells": [
  {
   "cell_type": "markdown",
   "metadata": {},
   "source": [
    "# Demostración Curvas Elípticas"
   ]
  },
  {
   "cell_type": "markdown",
   "metadata": {},
   "source": [
    "Primero, escogemos la curva Curve25519 recomendada en el RFC7748 (https://tools.ietf.org/html/rfc7748#page-4).\n",
    "Damos el cuerpo, la curva y el punto G base del subgrupo (también recomendado en el artículo)."
   ]
  },
  {
   "cell_type": "code",
   "execution_count": 12,
   "metadata": {},
   "outputs": [],
   "source": [
    "K = GF(2^(255)-19); # Cuerpo\n",
    "E =  EllipticCurve(K, [0, 486662, 0, 1, 0]); # Curva\n",
    "G = E(9,14781619447589544791020593568409986887264606134616475288964881837755586237401); # Generador del subgrupo\n",
    "n = 2^252 + 0x14def9dea2f79cd65812631a5cf5d3ed; # Orden subgrupo generado por G"
   ]
  },
  {
   "cell_type": "markdown",
   "metadata": {},
   "source": [
    "Esta el la función para generación de la llave privada (número) y la pública (punto)"
   ]
  },
  {
   "cell_type": "code",
   "execution_count": 13,
   "metadata": {},
   "outputs": [],
   "source": [
    "def obtenerClaves(G, n):\n",
    "    d = ZZ.random_element(1, n-1)\n",
    "    H = d*G\n",
    "    \n",
    "    return d,H #Privada / Pública "
   ]
  },
  {
   "cell_type": "markdown",
   "metadata": {},
   "source": [
    "Obtenemos una pareja de claves"
   ]
  },
  {
   "cell_type": "code",
   "execution_count": 31,
   "metadata": {},
   "outputs": [
    {
     "data": {
      "text/plain": [
       "(6466217458795460239168546665254127222386948803784032710039152625253381618434,\n",
       " (27501174150858854412187924747415082264060602229435582116045824313236092380309 : 40115898585552385400975026573704901568990540539599444469911269012302469956777 : 1))"
      ]
     },
     "execution_count": 31,
     "metadata": {},
     "output_type": "execute_result"
    }
   ],
   "source": [
    "dA, HA = obtenerClaves(G, n); dA, HA"
   ]
  },
  {
   "cell_type": "markdown",
   "metadata": {},
   "source": [
    "## ECDSA"
   ]
  },
  {
   "cell_type": "markdown",
   "metadata": {},
   "source": [
    "Función para firmar un mensaje y otra para verificar la firma"
   ]
  },
  {
   "cell_type": "code",
   "execution_count": 27,
   "metadata": {},
   "outputs": [],
   "source": [
    "def firmarEC(mensaje, G, n, d): #Menasaje / Generador subgrupo / Orden subgrupo / Clave privada\n",
    "    z = hash(mensaje) % n; # Hash del mensaje\n",
    "    \n",
    "    k = ZZ.random_element(1, n-1)\n",
    "    P = k*G; \n",
    "    r = P[0]; \n",
    "    r = Integer(r) % n;\n",
    "    k_inv = inverse_mod(k,n);\n",
    "    s = k_inv*(z+r*d) % n;\n",
    "\n",
    "    return r, s\n",
    "\n",
    "def verificarFirmaEC(mensaje, G, n, H, r, s): #Mensaje recibido / Generador subgrupo / Orden subgrupo / clave pública / valores firma (r, s)\n",
    "    z = hash(mensaje) % n; # Hash del mensaje\n",
    "    \n",
    "    u1 = ((1/s)*z) % n; \n",
    "    u2 = ((1/s)*r) % n; \n",
    "    P1 = u1*G + u2*H; \n",
    "    xP = Integer(P1[0]) % n; \n",
    "    \n",
    "    igual = False\n",
    "    if r == xP:\n",
    "        igual = True\n",
    "    \n",
    "    return igual"
   ]
  },
  {
   "cell_type": "code",
   "execution_count": 34,
   "metadata": {},
   "outputs": [],
   "source": [
    "mensaje1 = \"Demostración de la curva elíptica\"\n",
    "mensaje2 = \"Demostración de la curva elípticaa\""
   ]
  },
  {
   "cell_type": "code",
   "execution_count": 39,
   "metadata": {},
   "outputs": [],
   "source": [
    "r, s = firmarEC(mensaje1, G, n, dA)"
   ]
  },
  {
   "cell_type": "code",
   "execution_count": 40,
   "metadata": {},
   "outputs": [
    {
     "data": {
      "text/plain": [
       "True"
      ]
     },
     "execution_count": 40,
     "metadata": {},
     "output_type": "execute_result"
    }
   ],
   "source": [
    "verificarFirmaEC(mensaje1, G, n, HA, r, s)"
   ]
  },
  {
   "cell_type": "code",
   "execution_count": 41,
   "metadata": {},
   "outputs": [
    {
     "data": {
      "text/plain": [
       "False"
      ]
     },
     "execution_count": 41,
     "metadata": {},
     "output_type": "execute_result"
    }
   ],
   "source": [
    "verificarFirmaEC(mensaje2, G, n, HA, r, s)"
   ]
  },
  {
   "cell_type": "code",
   "execution_count": null,
   "metadata": {},
   "outputs": [],
   "source": []
  }
 ],
 "metadata": {
  "kernelspec": {
   "display_name": "SageMath 8.8",
   "language": "sage",
   "name": "sagemath"
  },
  "language_info": {
   "codemirror_mode": {
    "name": "ipython",
    "version": 2
   },
   "file_extension": ".py",
   "mimetype": "text/x-python",
   "name": "python",
   "nbconvert_exporter": "python",
   "pygments_lexer": "ipython2",
   "version": "2.7.15"
  }
 },
 "nbformat": 4,
 "nbformat_minor": 2
}
