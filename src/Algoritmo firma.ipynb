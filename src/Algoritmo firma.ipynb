{
 "cells": [
  {
   "cell_type": "code",
   "execution_count": 53,
   "metadata": {},
   "outputs": [
    {
     "data": {
      "text/plain": [
       "Finite Field of size 57896044618658097711785492504343953926634992332820282019728792003956564819949"
      ]
     },
     "execution_count": 53,
     "metadata": {},
     "output_type": "execute_result"
    }
   ],
   "source": [
    "K = GF(2^(255)-19); K"
   ]
  },
  {
   "cell_type": "code",
   "execution_count": 54,
   "metadata": {},
   "outputs": [
    {
     "data": {
      "text/plain": [
       "Elliptic Curve defined by y^2 = x^3 + 486662*x^2 + x over Finite Field of size 57896044618658097711785492504343953926634992332820282019728792003956564819949"
      ]
     },
     "execution_count": 54,
     "metadata": {},
     "output_type": "execute_result"
    }
   ],
   "source": [
    "E =  EllipticCurve(K, [0, 486662, 0, 1, 0]); E"
   ]
  },
  {
   "cell_type": "code",
   "execution_count": 55,
   "metadata": {},
   "outputs": [
    {
     "name": "stdout",
     "output_type": "stream",
     "text": [
      "(9 : 14781619447589544791020593568409986887264606134616475288964881837755586237401 : 1)\n"
     ]
    },
    {
     "data": {
      "text/plain": [
       "7237005577332262213973186563042994240857116359379907606001950938285454250989"
      ]
     },
     "execution_count": 55,
     "metadata": {},
     "output_type": "execute_result"
    }
   ],
   "source": [
    "G = E(9,14781619447589544791020593568409986887264606134616475288964881837755586237401);\n",
    "print(G)\n",
    "n = 2^252 + 0x14def9dea2f79cd65812631a5cf5d3ed; n"
   ]
  },
  {
   "cell_type": "code",
   "execution_count": 58,
   "metadata": {},
   "outputs": [
    {
     "data": {
      "text/plain": [
       "(34796436274754229172288090518510906697192248601787903334099479455160749453377 : 50222366172061360549263091749764174410830588143703772735078073154170335739903 : 1)"
      ]
     },
     "execution_count": 58,
     "metadata": {},
     "output_type": "execute_result"
    }
   ],
   "source": [
    "d_A = ZZ.random_element(1, n-1);\n",
    "H_A = d_A*G; H_A"
   ]
  },
  {
   "cell_type": "code",
   "execution_count": 60,
   "metadata": {},
   "outputs": [
    {
     "data": {
      "text/plain": [
       "7237005577332262213973186563042994240857116359379907605999978445200541406021"
      ]
     },
     "execution_count": 60,
     "metadata": {},
     "output_type": "execute_result"
    }
   ],
   "source": [
    "mensaje = \"Probando mensaje\";\n",
    "z = hash(mensaje) % n; z"
   ]
  },
  {
   "cell_type": "markdown",
   "metadata": {},
   "source": [
    "### FIRMAR"
   ]
  },
  {
   "cell_type": "code",
   "execution_count": 61,
   "metadata": {},
   "outputs": [
    {
     "data": {
      "text/plain": [
       "2101113517498947384363945386884704264340581738464648135776047319808309554414"
      ]
     },
     "execution_count": 61,
     "metadata": {},
     "output_type": "execute_result"
    }
   ],
   "source": [
    "k = ZZ.random_element(1, n-1); k"
   ]
  },
  {
   "cell_type": "code",
   "execution_count": 66,
   "metadata": {},
   "outputs": [
    {
     "name": "stdout",
     "output_type": "stream",
     "text": [
      "* r -- > 6259067621927689512330761803741157829958667811836248543850852266054932342057\n",
      "911306450558429069843505837324168221017230141584020402953913074978609387220\n",
      "* s -- > 4148287229081640336657184981512384912426274310861396235348323562307317894622\n"
     ]
    }
   ],
   "source": [
    "P = k*G; \n",
    "r = P[0]; \n",
    "r = Integer(r) % n;\n",
    "print(\"* r -- > \" + str(r));\n",
    "k_inv = inverse_mod(k,n);\n",
    "print(k_inv);\n",
    "s = k_inv*(z+r*d_A) % n;\n",
    "print(\"* s -- > \" + str(s));"
   ]
  },
  {
   "cell_type": "markdown",
   "metadata": {},
   "source": [
    "### Verificar firma"
   ]
  },
  {
   "cell_type": "code",
   "execution_count": 78,
   "metadata": {},
   "outputs": [
    {
     "name": "stdout",
     "output_type": "stream",
     "text": [
      "1640562368991174827333685453886088785974695651552548589966928232843725313952\n",
      "2963020805000654572159318294532490062760737999055636651961223390870531502188\n"
     ]
    },
    {
     "data": {
      "text/plain": [
       "6259067621927689512330761803741157829958667811836248543850852266054932342057"
      ]
     },
     "execution_count": 78,
     "metadata": {},
     "output_type": "execute_result"
    }
   ],
   "source": [
    "u1 = ((1/s)*z) % n; \n",
    "print(u1)\n",
    "u2 = ((1/s)*r) % n; \n",
    "print(u2);\n",
    "P1 = u1*G + u2*H_A; \n",
    "xP = Integer(P1[0]) % n; xP"
   ]
  },
  {
   "cell_type": "code",
   "execution_count": null,
   "metadata": {},
   "outputs": [],
   "source": []
  },
  {
   "cell_type": "code",
   "execution_count": null,
   "metadata": {},
   "outputs": [],
   "source": []
  },
  {
   "cell_type": "code",
   "execution_count": null,
   "metadata": {},
   "outputs": [],
   "source": []
  },
  {
   "cell_type": "code",
   "execution_count": null,
   "metadata": {},
   "outputs": [],
   "source": []
  },
  {
   "cell_type": "code",
   "execution_count": null,
   "metadata": {},
   "outputs": [],
   "source": []
  },
  {
   "cell_type": "code",
   "execution_count": 33,
   "metadata": {},
   "outputs": [
    {
     "data": {
      "text/plain": [
       "(0 : 0 : 1)"
      ]
     },
     "execution_count": 33,
     "metadata": {},
     "output_type": "execute_result"
    }
   ],
   "source": [
    "E = EllipticCurve([1,2,3,4,0])\n",
    "P = E(0,0)\n",
    "P.reduction(5)"
   ]
  },
  {
   "cell_type": "code",
   "execution_count": null,
   "metadata": {},
   "outputs": [],
   "source": []
  }
 ],
 "metadata": {
  "kernelspec": {
   "display_name": "SageMath 8.8",
   "language": "sage",
   "name": "sagemath"
  },
  "language_info": {
   "codemirror_mode": {
    "name": "ipython",
    "version": 2
   },
   "file_extension": ".py",
   "mimetype": "text/x-python",
   "name": "python",
   "nbconvert_exporter": "python",
   "pygments_lexer": "ipython2",
   "version": "2.7.15"
  }
 },
 "nbformat": 4,
 "nbformat_minor": 2
}
