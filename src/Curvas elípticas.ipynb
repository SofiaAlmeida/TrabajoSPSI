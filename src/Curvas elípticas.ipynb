{
 "cells": [
  {
   "cell_type": "markdown",
   "metadata": {},
   "source": [
    "# Demostración Curvas Elípticas"
   ]
  },
  {
   "cell_type": "markdown",
   "metadata": {},
   "source": [
    "Primero, escogemos la curva Curve25519 recomendada en el RFC7748 (https://tools.ietf.org/html/rfc7748#page-4).\n",
    "Damos el cuerpo, la curva y el punto G base del subgrupo (también recomendado en el artículo)."
   ]
  },
  {
   "cell_type": "code",
   "execution_count": 1,
   "metadata": {},
   "outputs": [],
   "source": [
    "K = GF(2^(255)-19); # Cuerpo\n",
    "E =  EllipticCurve(K, [0, 486662, 0, 1, 0]); # Curva\n",
    "G = E(9,14781619447589544791020593568409986887264606134616475288964881837755586237401); # Generador del subgrupo\n",
    "n = 2^252 + 0x14def9dea2f79cd65812631a5cf5d3ed; # Orden subgrupo generado por G"
   ]
  },
  {
   "cell_type": "markdown",
   "metadata": {},
   "source": [
    "Esta el la función para generación de la llave privada (número) y la pública (punto)"
   ]
  },
  {
   "cell_type": "code",
   "execution_count": 2,
   "metadata": {},
   "outputs": [],
   "source": [
    "def obtenerClaves(G, n):\n",
    "    d = ZZ.random_element(1, n-1)\n",
    "    H = d*G\n",
    "    \n",
    "    return d,H #Privada / Pública "
   ]
  },
  {
   "cell_type": "markdown",
   "metadata": {},
   "source": [
    "Obtenemos una pareja de claves"
   ]
  },
  {
   "cell_type": "code",
   "execution_count": 3,
   "metadata": {},
   "outputs": [
    {
     "data": {
      "text/plain": [
       "(955420798291222162383239997443926117836422561522270142103612702475525932480,\n",
       " (5121923852907061438581061465499853009050777329813211467055215122507590041839 : 3409004576848160780621935864572296721639491914975125550113634936524990286987 : 1))"
      ]
     },
     "execution_count": 3,
     "metadata": {},
     "output_type": "execute_result"
    }
   ],
   "source": [
    "dA, HA = obtenerClaves(G, n); dA, HA"
   ]
  },
  {
   "cell_type": "markdown",
   "metadata": {},
   "source": [
    "## ECDSA"
   ]
  },
  {
   "cell_type": "markdown",
   "metadata": {},
   "source": [
    "Función para firmar un mensaje y otra para verificar la firma"
   ]
  },
  {
   "cell_type": "code",
   "execution_count": 4,
   "metadata": {},
   "outputs": [],
   "source": [
    "def firmarEC(mensaje, G, n, d): #Menasaje / Generador subgrupo / Orden subgrupo / Clave privada\n",
    "    z = hash(mensaje) % n; # Hash del mensaje\n",
    "    \n",
    "    k = ZZ.random_element(1, n-1)\n",
    "    P = k*G; \n",
    "    r = P[0]; \n",
    "    r = Integer(r) % n;\n",
    "    k_inv = inverse_mod(k,n);\n",
    "    s = k_inv*(z+r*d) % n;\n",
    "\n",
    "    return r, s\n",
    "\n",
    "def verificarFirmaEC(mensaje, G, n, H, r, s): #Mensaje recibido / Generador subgrupo / Orden subgrupo / clave pública / valores firma (r, s)\n",
    "    z = hash(mensaje) % n; # Hash del mensaje\n",
    "    \n",
    "    u1 = ((1/s)*z) % n; \n",
    "    u2 = ((1/s)*r) % n; \n",
    "    P1 = u1*G + u2*H; \n",
    "    xP = Integer(P1[0]) % n; \n",
    "    \n",
    "    igual = False\n",
    "    if r == xP:\n",
    "        igual = True\n",
    "    \n",
    "    return igual"
   ]
  },
  {
   "cell_type": "markdown",
   "metadata": {},
   "source": [
    "Pongamos ahora en práctica el métdodo implementado. Supongamos que Alice desea enviar un mensaje a Bob. Decide firmarlo y enviárselo. (La parte de encriptar el archivo no lo tenemos en cuenta, solo nos interesa la firma)"
   ]
  },
  {
   "cell_type": "code",
   "execution_count": 18,
   "metadata": {},
   "outputs": [],
   "source": [
    "mensaje = \"Bob, me comprado un gatito. Puedes venir a verlo esta tarde\""
   ]
  },
  {
   "cell_type": "code",
   "execution_count": 19,
   "metadata": {},
   "outputs": [],
   "source": [
    "r, s = firmarEC(mensaje, G, n, dA)"
   ]
  },
  {
   "cell_type": "markdown",
   "metadata": {},
   "source": [
    "Suponemos que Bob tras descifrar el mensaje obtiene el siguiente y decide ver si verdaderamente lo ha enviado Alice."
   ]
  },
  {
   "cell_type": "code",
   "execution_count": 20,
   "metadata": {},
   "outputs": [
    {
     "data": {
      "text/plain": [
       "True"
      ]
     },
     "execution_count": 20,
     "metadata": {},
     "output_type": "execute_result"
    }
   ],
   "source": [
    "mensajeDescifrado = \"Bob, me comprado un gatito. Puedes venir a verlo esta tarde\"\n",
    "verificarFirmaEC(mensajeDescifrado, G, n, HA, r, s)"
   ]
  },
  {
   "cell_type": "markdown",
   "metadata": {},
   "source": [
    "Bob comprueba que efectivamente se lo ha enviado Alice y se organizar para ver al gatito. Alice, se da cuenta de que no han especificado hora y le envía otro mensaje para concretar. "
   ]
  },
  {
   "cell_type": "code",
   "execution_count": 23,
   "metadata": {},
   "outputs": [],
   "source": [
    "mensaje2 = \"Nos vemos en mi casa a las 14:00\"\n",
    "r2, s2 = r, s = firmarEC(mensaje2, G, n, dA)"
   ]
  },
  {
   "cell_type": "markdown",
   "metadata": {},
   "source": [
    "Carol, está eenvidiosa con ambos porque ella también quiere ver al gatito. Intercepta el mensaje enviado por Alice y lo cambia por otro y se lo envía a Bob haciéndose pasar por Alice. Bob cuando descifra el mensaje obtiene"
   ]
  },
  {
   "cell_type": "code",
   "execution_count": 24,
   "metadata": {},
   "outputs": [
    {
     "data": {
      "text/plain": [
       "False"
      ]
     },
     "execution_count": 24,
     "metadata": {},
     "output_type": "execute_result"
    }
   ],
   "source": [
    "mensajeDescifrado2 = \"Me ha surgido un problema, no puedes venir al final\"\n",
    "verificarFirmaEC(mensajeDescifrado2, G, n, HA, r2, s2)"
   ]
  },
  {
   "cell_type": "markdown",
   "metadata": {},
   "source": [
    "Bob ve que el mensaje no lo ha enviado Alice por lo que no le da credibilidad al mismo"
   ]
  },
  {
   "cell_type": "code",
   "execution_count": null,
   "metadata": {},
   "outputs": [],
   "source": []
  }
 ],
 "metadata": {
  "kernelspec": {
   "display_name": "SageMath 8.8",
   "language": "sage",
   "name": "sagemath"
  },
  "language_info": {
   "codemirror_mode": {
    "name": "ipython",
    "version": 2
   },
   "file_extension": ".py",
   "mimetype": "text/x-python",
   "name": "python",
   "nbconvert_exporter": "python",
   "pygments_lexer": "ipython2",
   "version": "2.7.15"
  }
 },
 "nbformat": 4,
 "nbformat_minor": 2
}
